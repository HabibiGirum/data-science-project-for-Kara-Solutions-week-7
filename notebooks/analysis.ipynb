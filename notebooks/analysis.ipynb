{
 "cells": [
  {
   "cell_type": "markdown",
   "metadata": {},
   "source": [
    "# import necessary python libraries to perform my tasks"
   ]
  },
  {
   "cell_type": "code",
   "execution_count": 1,
   "metadata": {},
   "outputs": [],
   "source": [
    "import pandas as pd\n",
    "import matplotlib.pyplot as plt"
   ]
  },
  {
   "cell_type": "code",
   "execution_count": 2,
   "metadata": {},
   "outputs": [],
   "source": [
    "\n",
    "\n",
    "import sys\n",
    "import os\n",
    "sys.path.append(os.path.abspath(os.path.join('..')))"
   ]
  },
  {
   "cell_type": "code",
   "execution_count": null,
   "metadata": {},
   "outputs": [],
   "source": [
    "from scripts.telegram_scraper_task_1 import TelegramScraper\n",
    "# Telegram API credentials\n",
    "API_ID = 'YOUR_API_ID'  # Replace with your API ID\n",
    "API_HASH = 'YOUR_API_HASH'  # Replace with your API HASH\n",
    "PHONE_NUMBER = 'YOUR_PHONE_NUMBER'  # Replace with your phone number\n",
    "\n",
    "# Telegram channels to scrape\n",
    "CHANNELS = [\n",
    "    'https://t.me/DoctorsET',\n",
    "    'https://t.me/Chemed',  # Replace with actual Chemed channel link\n",
    "    'https://t.me/lobelia4cosmetics',\n",
    "    'https://t.me/yetenaweg',\n",
    "    'https://t.me/EAHCI'\n",
    "]\n",
    "\n",
    "# Initialize the scraper\n",
    "scraper = TelegramScraper(api_id=API_ID, api_hash=API_HASH, phone_number=PHONE_NUMBER, channels=CHANNELS)\n",
    "\n",
    "# Start scraping\n",
    "import asyncio\n",
    "asyncio.run(scraper.start_scraping())"
   ]
  },
  {
   "cell_type": "code",
   "execution_count": null,
   "metadata": {},
   "outputs": [],
   "source": [
    "from scripts.task_2_data_cleaner import DataCleaner\n",
    "\n",
    "# Initialize the data cleaner\n",
    "cleaner = DataCleaner(db_name='telegram_data.db')\n",
    "\n",
    "# Run the data cleaning pipeline\n",
    "cleaner.clean_data()"
   ]
  },
  {
   "cell_type": "code",
   "execution_count": null,
   "metadata": {},
   "outputs": [],
   "source": [
    "from scripts.task_3_yolo_detector import YOLOObjectDetector\n",
    "detector = YOLOObjectDetector()\n",
    "detector.detect_objects(\"example.jpg\")\n",
    "detector.close()"
   ]
  },
  {
   "cell_type": "code",
   "execution_count": null,
   "metadata": {},
   "outputs": [],
   "source": [
    "from scripts.task_4_detection_schema import app\n",
    "import uvicorn\n",
    "uvicorn.run(app, host=\"0.0.0.0\", port=8000)"
   ]
  }
 ],
 "metadata": {
  "kernelspec": {
   "display_name": "base",
   "language": "python",
   "name": "python3"
  },
  "language_info": {
   "codemirror_mode": {
    "name": "ipython",
    "version": 3
   },
   "file_extension": ".py",
   "mimetype": "text/x-python",
   "name": "python",
   "nbconvert_exporter": "python",
   "pygments_lexer": "ipython3",
   "version": "3.12.7"
  }
 },
 "nbformat": 4,
 "nbformat_minor": 2
}
